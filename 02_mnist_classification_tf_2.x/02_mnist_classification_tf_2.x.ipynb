{
 "cells": [
  {
   "cell_type": "code",
   "execution_count": 4,
   "metadata": {
    "pycharm": {
     "name": "#%%\n"
    }
   },
   "outputs": [
    {
     "name": "stdout",
     "output_type": "stream",
     "text": [
      "Train on 60000 samples\n",
      "Epoch 1/20\n",
      "60000/60000 [==============================] - 3s 44us/sample - loss: 0.2985 - accuracy: 0.9133\n",
      "Epoch 2/20\n",
      "60000/60000 [==============================] - 3s 46us/sample - loss: 0.1420 - accuracy: 0.9574\n",
      "Epoch 3/20\n",
      "60000/60000 [==============================] - 3s 42us/sample - loss: 0.1073 - accuracy: 0.9674\n",
      "Epoch 4/20\n",
      "60000/60000 [==============================] - 2s 38us/sample - loss: 0.0880 - accuracy: 0.9727\n",
      "Epoch 5/20\n",
      "60000/60000 [==============================] - 2s 39us/sample - loss: 0.0757 - accuracy: 0.9757\n",
      "Epoch 6/20\n",
      "60000/60000 [==============================] - 2s 38us/sample - loss: 0.0646 - accuracy: 0.9793\n",
      "Epoch 7/20\n",
      "60000/60000 [==============================] - 2s 38us/sample - loss: 0.0609 - accuracy: 0.9804\n",
      "Epoch 8/20\n",
      "60000/60000 [==============================] - 2s 38us/sample - loss: 0.0525 - accuracy: 0.9830\n",
      "Epoch 9/20\n",
      "60000/60000 [==============================] - 2s 39us/sample - loss: 0.0483 - accuracy: 0.9846\n",
      "Epoch 10/20\n",
      "60000/60000 [==============================] - 2s 39us/sample - loss: 0.0457 - accuracy: 0.9851\n",
      "Epoch 11/20\n",
      "60000/60000 [==============================] - 2s 39us/sample - loss: 0.0424 - accuracy: 0.9862\n",
      "Epoch 12/20\n",
      "60000/60000 [==============================] - 2s 40us/sample - loss: 0.0391 - accuracy: 0.9865\n",
      "Epoch 13/20\n",
      "60000/60000 [==============================] - 2s 42us/sample - loss: 0.0370 - accuracy: 0.9875\n",
      "Epoch 14/20\n",
      "60000/60000 [==============================] - 2s 41us/sample - loss: 0.0350 - accuracy: 0.9883\n",
      "Epoch 15/20\n",
      "60000/60000 [==============================] - 2s 40us/sample - loss: 0.0327 - accuracy: 0.9890\n",
      "Epoch 16/20\n",
      "60000/60000 [==============================] - 2s 41us/sample - loss: 0.0287 - accuracy: 0.9905\n",
      "Epoch 17/20\n",
      "60000/60000 [==============================] - 2s 40us/sample - loss: 0.0300 - accuracy: 0.9895\n",
      "Epoch 18/20\n",
      "60000/60000 [==============================] - 2s 41us/sample - loss: 0.0290 - accuracy: 0.9900\n",
      "Epoch 19/20\n",
      "60000/60000 [==============================] - 2s 41us/sample - loss: 0.0283 - accuracy: 0.9903\n",
      "Epoch 20/20\n",
      "60000/60000 [==============================] - 2s 40us/sample - loss: 0.0273 - accuracy: 0.9899\n",
      "10000/10000 - 0s - loss: 0.0873 - accuracy: 0.9813\n",
      "INFO:tensorflow:Assets written to: ./model_save_path/assets\n"
     ]
    }
   ],
   "source": [
    "### 1、tensorflow 2.x  mnist 模型训练和保存\n",
    "import tensorflow as tf\n",
    "\n",
    "mnist = tf.keras.datasets.mnist # 载入mnist数据集，第一次调用会下载\n",
    "model_save_path=\"./model_save_path\"\n",
    "\n",
    "# 载入数据集并归一化\n",
    "(x_train, y_train), (x_test, y_test) = mnist.load_data()\n",
    "x_train, x_test = x_train / 255.0, x_test / 255.0\n",
    "\n",
    "#构建模型\n",
    "model = tf.keras.models.Sequential([\n",
    "  tf.keras.layers.Flatten(input_shape=(28, 28)), # 将28*28 的手写图片转换为一维向量\n",
    "  tf.keras.layers.Dense(128, activation='relu'), # 全连接层\n",
    "  tf.keras.layers.Dropout(0.2),                 # Dropout,减少过拟合\n",
    "  tf.keras.layers.Dense(10, activation='softmax') # 全连接层，输出经过softmax回归处理\n",
    "])\n",
    "\n",
    "# 选择优化方法（adam），损失函数(交叉熵crossentropy)，评估指标(准确率)，并编译\n",
    "model.compile(optimizer='adam',\n",
    "              loss='sparse_categorical_crossentropy',\n",
    "              metrics=['accuracy'])\n",
    "\n",
    "# 模型训练\n",
    "model.fit(x_train, y_train, epochs=20)\n",
    "\n",
    "# 模型测试集评估\n",
    "model.evaluate(x_test,  y_test, verbose=2)\n",
    "\n",
    "# 模型保存\n",
    "tf.keras.models.save_model(model,model_save_path)"
   ]
  },
  {
   "cell_type": "code",
   "execution_count": null,
   "metadata": {
    "collapsed": false,
    "jupyter": {
     "outputs_hidden": false
    },
    "pycharm": {
     "name": "#%%\n"
    }
   },
   "outputs": [],
   "source": []
  }
 ],
 "metadata": {
  "kernelspec": {
   "display_name": "Python 3",
   "language": "python",
   "name": "python3"
  },
  "language_info": {
   "codemirror_mode": {
    "name": "ipython",
    "version": 3
   },
   "file_extension": ".py",
   "mimetype": "text/x-python",
   "name": "python",
   "nbconvert_exporter": "python",
   "pygments_lexer": "ipython3",
   "version": "3.6.10"
  }
 },
 "nbformat": 4,
 "nbformat_minor": 4
}