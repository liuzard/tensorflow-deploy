{
 "cells": [
  {
   "cell_type": "markdown",
   "metadata": {},
   "source": [
    "### 1、tensorflow 1.x 保存 MNIST 分类模型\n",
    "\n",
    "本文档在 tensorflow 1.x 的环境下训练一个mnist数据集分类模型，并保存训练之后的模型，作为后续部署的模型。\n",
    "由于本项目主要目的是说明模型的部署，所以模型和训练尽可能简单，理论上，任意模型按照本文档的方式保存，均可以进行后续的部署。"
   ]
  },
  {
   "cell_type": "code",
   "execution_count": 2,
   "metadata": {},
   "outputs": [
    {
     "name": "stdout",
     "output_type": "stream",
     "text": [
      "Extracting MNIST_data/train-images-idx3-ubyte.gz\n",
      "Extracting MNIST_data/train-labels-idx1-ubyte.gz\n",
      "Extracting MNIST_data/t10k-images-idx3-ubyte.gz\n",
      "Extracting MNIST_data/t10k-labels-idx1-ubyte.gz\n"
     ]
    }
   ],
   "source": [
    "import tensorflow as tf\n",
    "from tensorflow.examples.tutorials.mnist import input_data\n",
    "\n",
    "# 获取 mnist数据\n",
    "mnist = input_data.read_data_sets(\"MNIST_data\",one_hot=True)\n",
    "mnist_train,mnist_validation,mnist_test=mnist.train,mnist.validation,mnist.test"
   ]
  },
  {
   "cell_type": "code",
   "execution_count": 3,
   "metadata": {},
   "outputs": [
    {
     "name": "stdout",
     "output_type": "stream",
     "text": [
      "Tensor(\"x-input:0\", shape=(?, 784), dtype=float32)\n",
      "WARNING:tensorflow:From /home/liuzard/miniconda3/envs/tf_113/lib/python3.6/site-packages/tensorflow/python/framework/op_def_library.py:263: colocate_with (from tensorflow.python.framework.ops) is deprecated and will be removed in a future version.\n",
      "Instructions for updating:\n",
      "Colocations handled automatically by placer.\n",
      "after 0 training steps, loss of train set is 2.865034,validation accuracy is 0.258800\n",
      "after 1000 training steps, loss of train set is 0.112137,validation accuracy is 0.971600\n",
      "after 2000 training steps, loss of train set is 0.101401,validation accuracy is 0.977800\n",
      "after 3000 training steps, loss of train set is 0.029216,validation accuracy is 0.979200\n",
      "after 4000 training steps, loss of train set is 0.015400,validation accuracy is 0.979200\n",
      "after 5000 training steps, loss of train set is 0.029765,validation accuracy is 0.983800\n",
      "after 6000 training steps, loss of train set is 0.011433,validation accuracy is 0.982400\n",
      "after 7000 training steps, loss of train set is 0.014701,validation accuracy is 0.981000\n",
      "after 8000 training steps, loss of train set is 0.005434,validation accuracy is 0.981200\n",
      "after 9000 training steps, loss of train set is 0.010085,validation accuracy is 0.981800\n",
      "test accuracy is 0.980300\n",
      "WARNING:tensorflow:From <ipython-input-3-05341f6c0ffd>:56: convert_variables_to_constants (from tensorflow.python.framework.graph_util_impl) is deprecated and will be removed in a future version.\n",
      "Instructions for updating:\n",
      "Use tf.compat.v1.graph_util.convert_variables_to_constants\n",
      "WARNING:tensorflow:From /home/liuzard/miniconda3/envs/tf_113/lib/python3.6/site-packages/tensorflow/python/framework/graph_util_impl.py:245: extract_sub_graph (from tensorflow.python.framework.graph_util_impl) is deprecated and will be removed in a future version.\n",
      "Instructions for updating:\n",
      "Use tf.compat.v1.graph_util.extract_sub_graph\n",
      "INFO:tensorflow:Froze 4 variables.\n",
      "INFO:tensorflow:Converted 4 variables to const ops.\n",
      "WARNING:tensorflow:From <ipython-input-3-05341f6c0ffd>:58: FastGFile.__init__ (from tensorflow.python.platform.gfile) is deprecated and will be removed in a future version.\n",
      "Instructions for updating:\n",
      "Use tf.gfile.GFile.\n"
     ]
    }
   ],
   "source": [
    "from tensorflow import graph_util # 保存模型用到的方法\n",
    "\n",
    "# 模型参数\n",
    "input_dim=784\n",
    "hidden_dim=200\n",
    "output_dim=10\n",
    "learning_rate=0.5\n",
    "train_steps=10000\n",
    "batch_size=100\n",
    "\n",
    "# 模型的输入，在调用部署后的模型时需要用到，所以这里最好自己命名\n",
    "x = tf.placeholder(tf.float32, [None, input_dim], name='x-input')\n",
    "y_ = tf.placeholder(tf.float32, [None, output_dim], name='y-input')\n",
    "print(x)\n",
    "\n",
    "# 构建一个三层的全连接层网络，输入层、隐层和输出层分别为784,200,10\n",
    "weights_1 = tf.Variable(tf.random_normal(shape=[input_dim,hidden_dim],stddev=0.1),name='w1')\n",
    "bias_1 = tf.Variable(tf.constant(0.0, shape=[hidden_dim]),name=\"b1\")\n",
    "hidden=tf.matmul(x,weights_1)+bias_1\n",
    "hidden=tf.nn.relu(hidden)\n",
    "\n",
    "weights_2 = tf.Variable(tf.random_normal(shape=[hidden_dim,output_dim],stddev=0.1),name='w2')\n",
    "bias_2 = tf.Variable(tf.constant(0.0, shape=[output_dim]),name=\"b2\")\n",
    "y=tf.matmul(hidden,weights_2)+bias_2\n",
    "\n",
    "# 模型的预测输出，注意，因为我们部署之后希望拿到这个值，所以这里最好自己命名，后面部署之后的调用会用到\n",
    "soft_y=tf.nn.softmax(y,name=\"predict\") \n",
    "\n",
    "\n",
    "# 模型损失\n",
    "cross_entropy = tf.nn.sparse_softmax_cross_entropy_with_logits(logits=y, labels=tf.argmax(y_, 1))\n",
    "loss = tf.reduce_mean(cross_entropy)\n",
    "\n",
    "# 预测精度\n",
    "correct_predict=tf.equal(tf.math.argmax(y,1),tf.math.argmax(y_,1))\n",
    "accuracy=tf.reduce_mean(tf.cast(correct_predict,tf.float32))\n",
    "\n",
    "#模型训练\n",
    "train_step=tf.train.GradientDescentOptimizer(learning_rate).minimize(loss)\n",
    "\n",
    "with tf.Session() as sess:\n",
    "    tf.global_variables_initializer().run()\n",
    "    validation_feed={x:mnist_validation.images,y_:mnist_validation.labels}\n",
    "    test_feed={x:mnist_test.images,y_:mnist_test.labels}\n",
    "    for i in range(train_steps):\n",
    "        train_samples,train_labels=mnist_train.next_batch(batch_size)\n",
    "        _,train_loss=sess.run([train_step,loss],feed_dict={x:train_samples,y_:train_labels})\n",
    "        if i%1000==0:\n",
    "            val_acc=sess.run(accuracy,feed_dict=validation_feed)\n",
    "            print(\"after %d training steps, loss of train set is %f,validation accuracy is %f\"%(i,train_loss,val_acc))\n",
    "    test_acc=sess.run(accuracy,feed_dict=test_feed)\n",
    "    print(\"test accuracy is %f\"%test_acc)\n",
    "    \n",
    "    # 保存模型\n",
    "    # 将权重和偏置等变量转换为常量，然后将计算图保存，可以大大减小保存后的模型\n",
    "    constant_graph = graph_util.convert_variables_to_constants(sess, sess.graph_def,output_node_names=[\"predict\"]) \n",
    "    model_save_path=\"model_save/mnist_classification.pb\"\n",
    "    with tf.gfile.FastGFile(model_save_path, mode='wb') as f:\n",
    "        f.write(constant_graph.SerializeToString())"
   ]
  },
  {
   "cell_type": "code",
   "execution_count": 4,
   "metadata": {},
   "outputs": [
    {
     "name": "stdout",
     "output_type": "stream",
     "text": [
      "[[0.07017156 0.06350049 0.01443778 ... 0.34903672 0.09104601 0.07863592]\n",
      " [0.23315549 0.07266916 0.02236856 ... 0.09671797 0.15844405 0.12381011]\n",
      " [0.27223897 0.08200911 0.06456126 ... 0.09693536 0.11303534 0.1633693 ]\n",
      " ...\n",
      " [0.13931967 0.03895352 0.05266058 ... 0.41981813 0.06385793 0.06327698]\n",
      " [0.26489916 0.06770544 0.05480701 ... 0.13090087 0.18384087 0.08028858]\n",
      " [0.31137165 0.28877038 0.01396287 ... 0.18734947 0.02521153 0.02698081]]\n"
     ]
    }
   ],
   "source": [
    "# 在python 中调用保存好的模型进行预测\n",
    "from tensorflow.python.platform import gfile\n",
    "\n",
    "model_save_path=\"model_save/mnist_classification.pb\"\n",
    "\n",
    "with tf.Session() as sess:\n",
    "    # 读取保存的模型\n",
    "    with gfile.FastGFile(model_save_path, 'rb') as f:\n",
    "        graph_def = tf.GraphDef()\n",
    "        graph_def.ParseFromString(f.read())\n",
    "    tf.import_graph_def(graph_def)\n",
    "    tf.global_variables_initializer().run()\n",
    "    g = tf.get_default_graph()\n",
    "    y_pred=g.get_tensor_by_name(\"predict:0\")\n",
    "    x = g.get_tensor_by_name(\"x-input:0\")\n",
    "    y_= sess.run(y_pred, feed_dict={x: mnist_test.images})\n",
    "    print(y_)"
   ]
  }
 ],
 "metadata": {
  "kernelspec": {
   "display_name": "Python 3",
   "language": "python",
   "name": "python3"
  },
  "language_info": {
   "codemirror_mode": {
    "name": "ipython",
    "version": 3
   },
   "file_extension": ".py",
   "mimetype": "text/x-python",
   "name": "python",
   "nbconvert_exporter": "python",
   "pygments_lexer": "ipython3",
   "version": "3.6.10"
  }
 },
 "nbformat": 4,
 "nbformat_minor": 4
}
